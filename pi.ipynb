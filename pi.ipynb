{
 "cells": [
  {
   "cell_type": "markdown",
   "metadata": {},
   "source": [
    "# Lecture 19 : Math 300"
   ]
  },
  {
   "cell_type": "markdown",
   "metadata": {},
   "source": [
    "Here we'll implement an algorithm to calculate pi."
   ]
  },
  {
   "cell_type": "code",
   "execution_count": 1,
   "metadata": {},
   "outputs": [],
   "source": [
    "import random"
   ]
  },
  {
   "cell_type": "code",
   "execution_count": 2,
   "metadata": {},
   "outputs": [],
   "source": [
    "import math"
   ]
  },
  {
   "cell_type": "code",
   "execution_count": 3,
   "metadata": {},
   "outputs": [],
   "source": [
    "?random.random"
   ]
  },
  {
   "cell_type": "markdown",
   "metadata": {},
   "source": [
    "First step: make a function to get random pairs."
   ]
  },
  {
   "cell_type": "code",
   "execution_count": 25,
   "metadata": {},
   "outputs": [],
   "source": [
    "def make_pair():\n",
    "    return (random.random(), random.random())"
   ]
  },
  {
   "cell_type": "code",
   "execution_count": 26,
   "metadata": {},
   "outputs": [
    {
     "data": {
      "text/plain": [
       "(0.304647266612292, 0.27406019710891405)"
      ]
     },
     "execution_count": 26,
     "metadata": {},
     "output_type": "execute_result"
    }
   ],
   "source": [
    "make_pair()"
   ]
  },
  {
   "cell_type": "markdown",
   "metadata": {},
   "source": [
    "Second step: make a function to test if dart in bounds."
   ]
  },
  {
   "cell_type": "code",
   "execution_count": 11,
   "metadata": {},
   "outputs": [],
   "source": [
    "def inbounds(pt):\n",
    "    if pt[0]**2 + pt[1]**2 <= 1:\n",
    "        return True\n",
    "    else:\n",
    "        return False"
   ]
  },
  {
   "cell_type": "code",
   "execution_count": 15,
   "metadata": {},
   "outputs": [
    {
     "data": {
      "text/plain": [
       "True"
      ]
     },
     "execution_count": 15,
     "metadata": {},
     "output_type": "execute_result"
    }
   ],
   "source": [
    "inbounds((0.1, 0.1))"
   ]
  },
  {
   "cell_type": "code",
   "execution_count": 16,
   "metadata": {},
   "outputs": [
    {
     "data": {
      "text/plain": [
       "False"
      ]
     },
     "execution_count": 16,
     "metadata": {},
     "output_type": "execute_result"
    }
   ],
   "source": [
    "inbounds((1.0, 1.0))"
   ]
  },
  {
   "cell_type": "markdown",
   "metadata": {},
   "source": [
    "Third step: simulate n darts."
   ]
  },
  {
   "cell_type": "code",
   "execution_count": 17,
   "metadata": {},
   "outputs": [],
   "source": [
    "def try_n_darts(n):\n",
    "    in_circle = 0\n",
    "    for i in range(n):\n",
    "        pt = make_pair()\n",
    "        if inbounds(pt):\n",
    "            in_circle = in_circle + 1\n",
    "    return (in_circle / n)*4"
   ]
  },
  {
   "cell_type": "code",
   "execution_count": 18,
   "metadata": {},
   "outputs": [
    {
     "data": {
      "text/plain": [
       "3.176"
      ]
     },
     "execution_count": 18,
     "metadata": {},
     "output_type": "execute_result"
    }
   ],
   "source": [
    "try_n_darts(1000)"
   ]
  },
  {
   "cell_type": "code",
   "execution_count": 19,
   "metadata": {},
   "outputs": [
    {
     "data": {
      "text/plain": [
       "3.14324"
      ]
     },
     "execution_count": 19,
     "metadata": {},
     "output_type": "execute_result"
    }
   ],
   "source": [
    "try_n_darts(100000)"
   ]
  },
  {
   "cell_type": "code",
   "execution_count": 20,
   "metadata": {},
   "outputs": [
    {
     "name": "stdout",
     "output_type": "stream",
     "text": [
      "32 : 3.125  0.016592653589793116\n",
      "64 : 2.8125  0.3290926535897931\n",
      "128 : 3.09375  0.047842653589793116\n",
      "256 : 3.171875  0.030282346410206884\n",
      "512 : 3.1640625  0.022469846410206884\n",
      "1024 : 3.22265625  0.08106359641020688\n",
      "2048 : 3.111328125  0.030264528589793116\n",
      "4096 : 3.1376953125  0.003897341089793116\n",
      "8192 : 3.1533203125  0.011727658910206884\n",
      "16384 : 3.135986328125  0.005606325464793116\n",
      "32768 : 3.1363525390625  0.005240114527293116\n",
      "65536 : 3.14923095703125  0.007638303441456884\n",
      "131072 : 3.149810791015625  0.008218137425831884\n",
      "262144 : 3.134124755859375  0.007467897730418116\n",
      "524288 : 3.144012451171875  0.002419797582081884\n",
      "1048576 : 3.1390838623046875  0.002508791285105616\n",
      "2097152 : 3.1425399780273438  0.000947324437550634\n",
      "4194304 : 3.1411619186401367  0.00043073494965639725\n",
      "8388608 : 3.141848087310791  0.0002554337209978996\n",
      "16777216 : 3.141777753829956  0.0001851002401629387\n"
     ]
    }
   ],
   "source": [
    "for i in range(5,25):\n",
    "    n = 2**i\n",
    "    guess = try_n_darts(n)\n",
    "    print(f'{n} : {guess}  {abs(guess - math.pi)}')"
   ]
  },
  {
   "cell_type": "code",
   "execution_count": null,
   "metadata": {},
   "outputs": [],
   "source": []
  }
 ],
 "metadata": {
  "kernelspec": {
   "display_name": "Python 3",
   "language": "python",
   "name": "python3"
  },
  "language_info": {
   "codemirror_mode": {
    "name": "ipython",
    "version": 3
   },
   "file_extension": ".py",
   "mimetype": "text/x-python",
   "name": "python",
   "nbconvert_exporter": "python",
   "pygments_lexer": "ipython3",
   "version": "3.7.3"
  }
 },
 "nbformat": 4,
 "nbformat_minor": 2
}
