{
 "cells": [
  {
   "cell_type": "code",
   "execution_count": 9,
   "metadata": {},
   "outputs": [],
   "source": [
    "def mergesort(l):\n",
    "    if len(l) < 2:\n",
    "        return l\n",
    "    elif len(l) == 2:\n",
    "        if l[0] <= l[1]:\n",
    "            return l\n",
    "        else:\n",
    "            return [l[1], l[0]]\n",
    "    else:\n",
    "        split = int(len(l)/2)\n",
    "        left = l[:split]\n",
    "        right = l[split:]\n",
    "        left = mergesort(left)\n",
    "        right = mergesort(right)\n",
    "        il = 0\n",
    "        ir = 0\n",
    "        retval = []\n",
    "        while il < len(left) or ir < len(right):\n",
    "            if il == len(left):\n",
    "                retval.append(right[ir])\n",
    "                ir = ir + 1\n",
    "            elif ir == len(right):\n",
    "                retval.append(left[il])\n",
    "                il = il + 1\n",
    "            elif left[il] < right[ir]:\n",
    "                retval.append(left[il])\n",
    "                il = il + 1\n",
    "            else:\n",
    "                retval.append(right[ir])\n",
    "                ir = ir + 1\n",
    "        return retval"
   ]
  },
  {
   "cell_type": "code",
   "execution_count": 10,
   "metadata": {},
   "outputs": [
    {
     "data": {
      "text/plain": [
       "[2, 2, 3, 4, 6]"
      ]
     },
     "execution_count": 10,
     "metadata": {},
     "output_type": "execute_result"
    }
   ],
   "source": [
    "mergesort([3,2,6,2,4])"
   ]
  },
  {
   "cell_type": "code",
   "execution_count": 3,
   "metadata": {},
   "outputs": [],
   "source": [
    "import random"
   ]
  },
  {
   "cell_type": "code",
   "execution_count": 4,
   "metadata": {},
   "outputs": [],
   "source": [
    "x = [random.random() for i in range(30)]"
   ]
  },
  {
   "cell_type": "code",
   "execution_count": 5,
   "metadata": {},
   "outputs": [
    {
     "data": {
      "text/plain": [
       "[0.9281100359813024,\n",
       " 0.6413781562325263,\n",
       " 0.9775688708565956,\n",
       " 0.11370199853544838,\n",
       " 0.8889208425347419,\n",
       " 0.5310067725482278,\n",
       " 0.6462094707233275,\n",
       " 0.5180547412744114,\n",
       " 0.8006625485485142,\n",
       " 0.19550443289312203,\n",
       " 0.31019747672913867,\n",
       " 0.5096908964087159,\n",
       " 0.6005103461505508,\n",
       " 0.3198112413589471,\n",
       " 0.8546356624353658,\n",
       " 0.2853267322565306,\n",
       " 0.6187449073657105,\n",
       " 0.6314942193381107,\n",
       " 0.50267568940159,\n",
       " 0.3913808233752214,\n",
       " 0.9565573999058317,\n",
       " 0.3347163234021189,\n",
       " 0.4348161972570622,\n",
       " 0.44650099918578534,\n",
       " 0.12881545034292852,\n",
       " 0.24693230970772306,\n",
       " 0.9363306930431984,\n",
       " 0.20340040032780204,\n",
       " 0.9176720680965255,\n",
       " 0.8649172555192742]"
      ]
     },
     "execution_count": 5,
     "metadata": {},
     "output_type": "execute_result"
    }
   ],
   "source": [
    "x"
   ]
  },
  {
   "cell_type": "code",
   "execution_count": 6,
   "metadata": {},
   "outputs": [
    {
     "data": {
      "text/plain": [
       "[0.11370199853544838,\n",
       " 0.12881545034292852,\n",
       " 0.19550443289312203,\n",
       " 0.20340040032780204,\n",
       " 0.24693230970772306,\n",
       " 0.2853267322565306,\n",
       " 0.31019747672913867,\n",
       " 0.3198112413589471,\n",
       " 0.3347163234021189,\n",
       " 0.3913808233752214,\n",
       " 0.4348161972570622,\n",
       " 0.44650099918578534,\n",
       " 0.50267568940159,\n",
       " 0.5096908964087159,\n",
       " 0.5180547412744114,\n",
       " 0.5310067725482278,\n",
       " 0.6005103461505508,\n",
       " 0.6187449073657105,\n",
       " 0.6314942193381107,\n",
       " 0.6413781562325263,\n",
       " 0.6462094707233275,\n",
       " 0.8006625485485142,\n",
       " 0.8546356624353658,\n",
       " 0.8649172555192742,\n",
       " 0.8889208425347419,\n",
       " 0.9176720680965255,\n",
       " 0.9281100359813024,\n",
       " 0.9363306930431984,\n",
       " 0.9565573999058317,\n",
       " 0.9775688708565956]"
      ]
     },
     "execution_count": 6,
     "metadata": {},
     "output_type": "execute_result"
    }
   ],
   "source": [
    "mergesort(x)"
   ]
  },
  {
   "cell_type": "code",
   "execution_count": 11,
   "metadata": {},
   "outputs": [],
   "source": [
    "foods = {}"
   ]
  },
  {
   "cell_type": "code",
   "execution_count": 12,
   "metadata": {},
   "outputs": [],
   "source": [
    "foods['matt'] = 'pizza'"
   ]
  },
  {
   "cell_type": "code",
   "execution_count": 13,
   "metadata": {},
   "outputs": [
    {
     "data": {
      "text/plain": [
       "{'matt': 'pizza'}"
      ]
     },
     "execution_count": 13,
     "metadata": {},
     "output_type": "execute_result"
    }
   ],
   "source": [
    "foods"
   ]
  },
  {
   "cell_type": "code",
   "execution_count": 14,
   "metadata": {},
   "outputs": [],
   "source": [
    "foods['bill'] = 'sushi'"
   ]
  },
  {
   "cell_type": "code",
   "execution_count": 15,
   "metadata": {},
   "outputs": [],
   "source": [
    "foods['sally'] = 'tacos'"
   ]
  },
  {
   "cell_type": "code",
   "execution_count": 16,
   "metadata": {},
   "outputs": [
    {
     "data": {
      "text/plain": [
       "{'matt': 'pizza', 'bill': 'sushi', 'sally': 'tacos'}"
      ]
     },
     "execution_count": 16,
     "metadata": {},
     "output_type": "execute_result"
    }
   ],
   "source": [
    "foods"
   ]
  },
  {
   "cell_type": "code",
   "execution_count": 17,
   "metadata": {},
   "outputs": [
    {
     "data": {
      "text/plain": [
       "True"
      ]
     },
     "execution_count": 17,
     "metadata": {},
     "output_type": "execute_result"
    }
   ],
   "source": [
    "'matt' in foods"
   ]
  },
  {
   "cell_type": "code",
   "execution_count": 19,
   "metadata": {},
   "outputs": [
    {
     "data": {
      "text/plain": [
       "dict_keys(['matt', 'bill', 'sally'])"
      ]
     },
     "execution_count": 19,
     "metadata": {},
     "output_type": "execute_result"
    }
   ],
   "source": [
    "foods.keys()"
   ]
  },
  {
   "cell_type": "code",
   "execution_count": 23,
   "metadata": {},
   "outputs": [
    {
     "name": "stdout",
     "output_type": "stream",
     "text": [
      "pizza\n",
      "sushi\n",
      "tacos\n"
     ]
    }
   ],
   "source": [
    "for x in foods:\n",
    "    print(foods[x])"
   ]
  },
  {
   "cell_type": "code",
   "execution_count": 24,
   "metadata": {},
   "outputs": [],
   "source": [
    "import math"
   ]
  },
  {
   "cell_type": "code",
   "execution_count": 25,
   "metadata": {},
   "outputs": [
    {
     "data": {
      "text/plain": [
       "['__doc__',\n",
       " '__loader__',\n",
       " '__name__',\n",
       " '__package__',\n",
       " '__spec__',\n",
       " 'acos',\n",
       " 'acosh',\n",
       " 'asin',\n",
       " 'asinh',\n",
       " 'atan',\n",
       " 'atan2',\n",
       " 'atanh',\n",
       " 'ceil',\n",
       " 'copysign',\n",
       " 'cos',\n",
       " 'cosh',\n",
       " 'degrees',\n",
       " 'e',\n",
       " 'erf',\n",
       " 'erfc',\n",
       " 'exp',\n",
       " 'expm1',\n",
       " 'fabs',\n",
       " 'factorial',\n",
       " 'floor',\n",
       " 'fmod',\n",
       " 'frexp',\n",
       " 'fsum',\n",
       " 'gamma',\n",
       " 'gcd',\n",
       " 'hypot',\n",
       " 'inf',\n",
       " 'isclose',\n",
       " 'isfinite',\n",
       " 'isinf',\n",
       " 'isnan',\n",
       " 'ldexp',\n",
       " 'lgamma',\n",
       " 'log',\n",
       " 'log10',\n",
       " 'log1p',\n",
       " 'log2',\n",
       " 'modf',\n",
       " 'nan',\n",
       " 'pi',\n",
       " 'pow',\n",
       " 'radians',\n",
       " 'remainder',\n",
       " 'sin',\n",
       " 'sinh',\n",
       " 'sqrt',\n",
       " 'tan',\n",
       " 'tanh',\n",
       " 'tau',\n",
       " 'trunc']"
      ]
     },
     "execution_count": 25,
     "metadata": {},
     "output_type": "execute_result"
    }
   ],
   "source": [
    "dir(math)"
   ]
  },
  {
   "cell_type": "code",
   "execution_count": 26,
   "metadata": {},
   "outputs": [],
   "source": [
    "x = [1,2,3]"
   ]
  },
  {
   "cell_type": "code",
   "execution_count": 27,
   "metadata": {},
   "outputs": [
    {
     "data": {
      "text/plain": [
       "[1, 2, 3]"
      ]
     },
     "execution_count": 27,
     "metadata": {},
     "output_type": "execute_result"
    }
   ],
   "source": [
    "x.copy()"
   ]
  },
  {
   "cell_type": "code",
   "execution_count": null,
   "metadata": {},
   "outputs": [],
   "source": []
  }
 ],
 "metadata": {
  "kernelspec": {
   "display_name": "Python 3",
   "language": "python",
   "name": "python3"
  },
  "language_info": {
   "codemirror_mode": {
    "name": "ipython",
    "version": 3
   },
   "file_extension": ".py",
   "mimetype": "text/x-python",
   "name": "python",
   "nbconvert_exporter": "python",
   "pygments_lexer": "ipython3",
   "version": "3.7.3"
  }
 },
 "nbformat": 4,
 "nbformat_minor": 2
}
